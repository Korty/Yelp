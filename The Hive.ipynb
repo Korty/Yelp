{
 "cells": [
  {
   "cell_type": "code",
   "execution_count": 10,
   "metadata": {},
   "outputs": [],
   "source": [
    "import os\n",
    "import csv\n",
    "import requests\n",
    "import pandas as pd\n",
    "import numpy as np\n",
    "import matplotlib.pyplot as plt\n",
    "%matplotlib inline\n",
    "from PIL import Image\n",
    "\n",
    "#from yelp.client import Client\n",
    "\n",
    "import nltk\n",
    "from nltk.probability import FreqDist\n",
    "from nltk.tokenize import word_tokenize, sent_tokenize\n",
    "\n",
    "from wordcloud import WordCloud, ImageColorGenerator"
   ]
  },
  {
   "cell_type": "code",
   "execution_count": null,
   "metadata": {},
   "outputs": [],
   "source": [
    "# The Hive Bar & Bistro\n",
    "# 'id': 'hE5iK9YGwftL5YFW_fT1Fg\n",
    "# 'alias': 'the-hive-bar-and-bistro-garfield'"
   ]
  },
  {
   "cell_type": "code",
   "execution_count": 12,
   "metadata": {},
   "outputs": [],
   "source": [
    "# Yelp Links\n",
    "business_search = 'https://api.yelp.com/v3/businesses/search'\n",
    "phone_search = 'https://api.yelp.com/v3/businesses/search/phone'\n",
    "business_details = 'https://api.yelp.com/v3/businesses/{id}'\n",
    "business_reviews = 'https://api.yelp.com/v3/businesses/{id}/reviews'"
   ]
  },
  {
   "cell_type": "code",
   "execution_count": 18,
   "metadata": {},
   "outputs": [],
   "source": [
    "# Client ID: CPV2AM-C8wWTHtwDdXgLDQ\n",
    "MY_API_KEY = \"qKrhuyRrvZMmSL4sAGWQ-NTlQjJzkYhMdze6967SL4R5pgF-I5wZVbTdfeppKOg_YShYbfS7ty772DP1yd1vZRJ0CmtTtuXnGtJmjjVXcxklX54TJlp50uUBHFJQXXYx\" #  Replace this with your real API key\n",
    "HEADER = {'Authorization': 'bearer %s' % MY_API_KEY}\n",
    "#client = Client(MY_API_KEY)"
   ]
  },
  {
   "cell_type": "code",
   "execution_count": 9,
   "metadata": {},
   "outputs": [],
   "source": [
    "# Parameters\n",
    "my_params = {'location':'142, 2623 Outwater Ln, Garfield, NJ 07026'}"
   ]
  },
  {
   "cell_type": "code",
   "execution_count": 19,
   "metadata": {},
   "outputs": [],
   "source": [
    "response = requests.get(url = business_search, params = my_params, headers = HEADER)"
   ]
  },
  {
   "cell_type": "code",
   "execution_count": 21,
   "metadata": {},
   "outputs": [],
   "source": [
    "business_data  = response.json()"
   ]
  },
  {
   "cell_type": "code",
   "execution_count": 22,
   "metadata": {},
   "outputs": [
    {
     "name": "stdout",
     "output_type": "stream",
     "text": [
      "{'businesses': [{'id': 'qosp2vDDXks8eMGH7p4WSQ', 'alias': 'la-fortaleza-garfield-3', 'name': 'La Fortaleza', 'image_url': 'https://s3-media1.fl.yelpcdn.com/bphoto/QPkX1sYVd_PLUhvq63p2hQ/o.jpg', 'is_closed': False, 'url': 'https://www.yelp.com/biz/la-fortaleza-garfield-3?adjust_creative=CPV2AM-C8wWTHtwDdXgLDQ&utm_campaign=yelp_api_v3&utm_medium=api_v3_business_search&utm_source=CPV2AM-C8wWTHtwDdXgLDQ', 'review_count': 912, 'categories': [{'alias': 'mexican', 'title': 'Mexican'}], 'rating': 4.0, 'coordinates': {'latitude': 40.8770561218262, 'longitude': -74.1033096313477}, 'transactions': ['pickup', 'delivery'], 'price': '$$', 'location': {'address1': '361 Midland Ave', 'address2': '', 'address3': '', 'city': 'Garfield', 'zip_code': '07026', 'country': 'US', 'state': 'NJ', 'display_address': ['361 Midland Ave', 'Garfield, NJ 07026']}, 'phone': '+19739284470', 'display_phone': '(973) 928-4470', 'distance': 919.6000426079363}, {'id': 'TExzWoDwkeNYiDBgUiKi5A', 'alias': 'cafe-bubamara-clifton', 'name': 'Cafe Bubamara', 'image_url': 'https://s3-media2.fl.yelpcdn.com/bphoto/8RsI3rQNxylACV6qtQRuUQ/o.jpg', 'is_closed': False, 'url': 'https://www.yelp.com/biz/cafe-bubamara-clifton?adjust_creative=CPV2AM-C8wWTHtwDdXgLDQ&utm_campaign=yelp_api_v3&utm_medium=api_v3_business_search&utm_source=CPV2AM-C8wWTHtwDdXgLDQ', 'review_count': 264, 'categories': [{'alias': 'modern_european', 'title': 'Modern European'}, {'alias': 'breakfast_brunch', 'title': 'Breakfast & Brunch'}, {'alias': 'sandwiches', 'title': 'Sandwiches'}], 'rating': 4.5, 'coordinates': {'latitude': 40.87659, 'longitude': -74.1243}, 'transactions': [], 'price': '$$', 'location': {'address1': '263 Parker Ave', 'address2': None, 'address3': '', 'city': 'Clifton', 'zip_code': '07011', 'country': 'US', 'state': 'NJ', 'display_address': ['263 Parker Ave', 'Clifton, NJ 07011']}, 'phone': '+19739281371', 'display_phone': '(973) 928-1371', 'distance': 1121.4713289443396}, {'id': 'hE5iK9YGwftL5YFW_fT1Fg', 'alias': 'the-hive-bar-and-bistro-garfield', 'name': 'The Hive Bar & Bistro', 'image_url': 'https://s3-media3.fl.yelpcdn.com/bphoto/yZydL3zvyMaqyzG_67uRAw/o.jpg', 'is_closed': False, 'url': 'https://www.yelp.com/biz/the-hive-bar-and-bistro-garfield?adjust_creative=CPV2AM-C8wWTHtwDdXgLDQ&utm_campaign=yelp_api_v3&utm_medium=api_v3_business_search&utm_source=CPV2AM-C8wWTHtwDdXgLDQ', 'review_count': 106, 'categories': [{'alias': 'salad', 'title': 'Salad'}, {'alias': 'chicken_wings', 'title': 'Chicken Wings'}, {'alias': 'cocktailbars', 'title': 'Cocktail Bars'}], 'rating': 4.5, 'coordinates': {'latitude': 40.8815153240369, 'longitude': -74.1125469790838}, 'transactions': [], 'price': '$$', 'location': {'address1': '142 Outwater Ln', 'address2': '', 'address3': None, 'city': 'Garfield', 'zip_code': '07026', 'country': 'US', 'state': 'NJ', 'display_address': ['142 Outwater Ln', 'Garfield, NJ 07026']}, 'phone': '+19739554414', 'display_phone': '(973) 955-4414', 'distance': 6.3942633152032}, {'id': 'Kmtqm-Ed2DAMkEhZYboX8A', 'alias': 'steves-burgers-garfield-2', 'name': \"Steve's Burgers\", 'image_url': 'https://s3-media1.fl.yelpcdn.com/bphoto/YpQ5OyLKl3j3M1N0oF_ezA/o.jpg', 'is_closed': False, 'url': 'https://www.yelp.com/biz/steves-burgers-garfield-2?adjust_creative=CPV2AM-C8wWTHtwDdXgLDQ&utm_campaign=yelp_api_v3&utm_medium=api_v3_business_search&utm_source=CPV2AM-C8wWTHtwDdXgLDQ', 'review_count': 286, 'categories': [{'alias': 'burgers', 'title': 'Burgers'}, {'alias': 'cheesesteaks', 'title': 'Cheesesteaks'}, {'alias': 'hotdog', 'title': 'Hot Dogs'}], 'rating': 4.5, 'coordinates': {'latitude': 40.893083, 'longitude': -74.106142}, 'transactions': [], 'price': '$', 'location': {'address1': '506 Us-46', 'address2': None, 'address3': '', 'city': 'Garfield', 'zip_code': '07026', 'country': 'US', 'state': 'NJ', 'display_address': ['506 Us-46', 'Garfield, NJ 07026']}, 'phone': '+19737721770', 'display_phone': '(973) 772-1770', 'distance': 1400.7596177810783}, {'id': 'nxUs6svpNSL0wAwAA2F34w', 'alias': 'clifton-thai-restaurant-clifton-3', 'name': 'Clifton Thai Restaurant', 'image_url': 'https://s3-media4.fl.yelpcdn.com/bphoto/pYuXVE2et-ilWAMOhCWImA/o.jpg', 'is_closed': False, 'url': 'https://www.yelp.com/biz/clifton-thai-restaurant-clifton-3?adjust_creative=CPV2AM-C8wWTHtwDdXgLDQ&utm_campaign=yelp_api_v3&utm_medium=api_v3_business_search&utm_source=CPV2AM-C8wWTHtwDdXgLDQ', 'review_count': 376, 'categories': [{'alias': 'thai', 'title': 'Thai'}], 'rating': 4.0, 'coordinates': {'latitude': 40.8758985, 'longitude': -74.1237514}, 'transactions': ['pickup', 'delivery'], 'price': '$$', 'location': {'address1': '239 Parker Ave', 'address2': '', 'address3': '', 'city': 'Clifton', 'zip_code': '07011', 'country': 'US', 'state': 'NJ', 'display_address': ['239 Parker Ave', 'Clifton, NJ 07011']}, 'phone': '+19732531400', 'display_phone': '(973) 253-1400', 'distance': 1125.3849429859977}, {'id': 'ViPLcOlHdLgCBL-lsI7qtA', 'alias': 'king-of-falafel-and-shawarma-garfield', 'name': 'King Of Falafel & Shawarma', 'image_url': 'https://s3-media2.fl.yelpcdn.com/bphoto/EgA7_YIbN2goKr1BOq5Puw/o.jpg', 'is_closed': False, 'url': 'https://www.yelp.com/biz/king-of-falafel-and-shawarma-garfield?adjust_creative=CPV2AM-C8wWTHtwDdXgLDQ&utm_campaign=yelp_api_v3&utm_medium=api_v3_business_search&utm_source=CPV2AM-C8wWTHtwDdXgLDQ', 'review_count': 55, 'categories': [{'alias': 'falafel', 'title': 'Falafel'}, {'alias': 'mideastern', 'title': 'Middle Eastern'}], 'rating': 5.0, 'coordinates': {'latitude': 40.880644, 'longitude': -74.118723}, 'transactions': ['pickup', 'delivery'], 'location': {'address1': '17 Outwater Ln', 'address2': '', 'address3': None, 'city': 'Garfield', 'zip_code': '07026', 'country': 'US', 'state': 'NJ', 'display_address': ['17 Outwater Ln', 'Garfield, NJ 07026']}, 'phone': '+12013450717', 'display_phone': '(201) 345-0717', 'distance': 514.3219061278232}, {'id': 'NDHiySfZV6jmKFYWMYOebQ', 'alias': 'la-cambusa-garfield', 'name': 'La Cambusa', 'image_url': 'https://s3-media3.fl.yelpcdn.com/bphoto/mizm8xFDqVBvoZ5-TSf2Lw/o.jpg', 'is_closed': False, 'url': 'https://www.yelp.com/biz/la-cambusa-garfield?adjust_creative=CPV2AM-C8wWTHtwDdXgLDQ&utm_campaign=yelp_api_v3&utm_medium=api_v3_business_search&utm_source=CPV2AM-C8wWTHtwDdXgLDQ', 'review_count': 113, 'categories': [{'alias': 'italian', 'title': 'Italian'}], 'rating': 4.5, 'coordinates': {'latitude': 40.8755969493374, 'longitude': -74.1146901802017}, 'transactions': [], 'price': '$$', 'location': {'address1': '517 River Dr', 'address2': None, 'address3': '', 'city': 'Garfield', 'zip_code': '07026', 'country': 'US', 'state': 'NJ', 'display_address': ['517 River Dr', 'Garfield, NJ 07026']}, 'phone': '+19732728739', 'display_phone': '(973) 272-8739', 'distance': 675.920933541392}, {'id': 'CR-XmjTQl4Jl5shKNpHphg', 'alias': 'dps-pub-garfield', 'name': \"DP's Pub\", 'image_url': 'https://s3-media2.fl.yelpcdn.com/bphoto/5W7rHjyQKJK3slvv2APE0Q/o.jpg', 'is_closed': False, 'url': 'https://www.yelp.com/biz/dps-pub-garfield?adjust_creative=CPV2AM-C8wWTHtwDdXgLDQ&utm_campaign=yelp_api_v3&utm_medium=api_v3_business_search&utm_source=CPV2AM-C8wWTHtwDdXgLDQ', 'review_count': 216, 'categories': [{'alias': 'seafood', 'title': 'Seafood'}, {'alias': 'tradamerican', 'title': 'American (Traditional)'}, {'alias': 'pubs', 'title': 'Pubs'}], 'rating': 4.0, 'coordinates': {'latitude': 40.882004, 'longitude': -74.120933}, 'transactions': [], 'price': '$$', 'location': {'address1': '732 River Dr', 'address2': '', 'address3': '', 'city': 'Garfield', 'zip_code': '07026', 'country': 'US', 'state': 'NJ', 'display_address': ['732 River Dr', 'Garfield, NJ 07026']}, 'phone': '', 'display_phone': '', 'distance': 705.8517253550907}, {'id': 'UW2n6NFBnFXTLlav-xzzcQ', 'alias': 'christians-steak-and-grill-garfield', 'name': \"Christian's Steak & Grill\", 'image_url': 'https://s3-media2.fl.yelpcdn.com/bphoto/s75mx2zEYEivKNTXBeVztw/o.jpg', 'is_closed': False, 'url': 'https://www.yelp.com/biz/christians-steak-and-grill-garfield?adjust_creative=CPV2AM-C8wWTHtwDdXgLDQ&utm_campaign=yelp_api_v3&utm_medium=api_v3_business_search&utm_source=CPV2AM-C8wWTHtwDdXgLDQ', 'review_count': 154, 'categories': [{'alias': 'tradamerican', 'title': 'American (Traditional)'}], 'rating': 4.0, 'coordinates': {'latitude': 40.88001, 'longitude': -74.11808}, 'transactions': [], 'price': '$$', 'location': {'address1': '24 Outwater Ln', 'address2': '', 'address3': '', 'city': 'Garfield', 'zip_code': '07026', 'country': 'US', 'state': 'NJ', 'display_address': ['24 Outwater Ln', 'Garfield, NJ 07026']}, 'phone': '+19737723313', 'display_phone': '(973) 772-3313', 'distance': 493.13380230579565}, {'id': 'l4IfQeCh149hIF6Bv89WWg', 'alias': 'the-hot-grill-clifton', 'name': 'The Hot Grill', 'image_url': 'https://s3-media1.fl.yelpcdn.com/bphoto/_2epdgn0zB9n_1i7OsW4mQ/o.jpg', 'is_closed': False, 'url': 'https://www.yelp.com/biz/the-hot-grill-clifton?adjust_creative=CPV2AM-C8wWTHtwDdXgLDQ&utm_campaign=yelp_api_v3&utm_medium=api_v3_business_search&utm_source=CPV2AM-C8wWTHtwDdXgLDQ', 'review_count': 367, 'categories': [{'alias': 'hotdog', 'title': 'Hot Dogs'}], 'rating': 4.0, 'coordinates': {'latitude': 40.88406, 'longitude': -74.13298}, 'transactions': [], 'price': '$', 'location': {'address1': '669 Lexington Ave', 'address2': '', 'address3': '', 'city': 'Clifton', 'zip_code': '07011', 'country': 'US', 'state': 'NJ', 'display_address': ['669 Lexington Ave', 'Clifton, NJ 07011']}, 'phone': '+19737726000', 'display_phone': '(973) 772-6000', 'distance': 1751.3423199238825}, {'id': 'urqTHFOSHtjrHOe_fmMLuQ', 'alias': 'mexico-deli-restaurant-passaic', 'name': 'Mexico Deli Restaurant', 'image_url': 'https://s3-media2.fl.yelpcdn.com/bphoto/DrNaPFpstkkuOmF8e8y1Dg/o.jpg', 'is_closed': False, 'url': 'https://www.yelp.com/biz/mexico-deli-restaurant-passaic?adjust_creative=CPV2AM-C8wWTHtwDdXgLDQ&utm_campaign=yelp_api_v3&utm_medium=api_v3_business_search&utm_source=CPV2AM-C8wWTHtwDdXgLDQ', 'review_count': 169, 'categories': [{'alias': 'mexican', 'title': 'Mexican'}, {'alias': 'delis', 'title': 'Delis'}, {'alias': 'juicebars', 'title': 'Juice Bars & Smoothies'}], 'rating': 4.5, 'coordinates': {'latitude': 40.86638, 'longitude': -74.1171899}, 'transactions': [], 'price': '$', 'location': {'address1': '141 Market St', 'address2': '', 'address3': '', 'city': 'Passaic', 'zip_code': '07055', 'country': 'US', 'state': 'NJ', 'display_address': ['141 Market St', 'Passaic, NJ 07055']}, 'phone': '+18622491114', 'display_phone': '(862) 249-1114', 'distance': 1718.660921076378}, {'id': 'tphnYCcwIBADJ1-8Znqnmw', 'alias': 'the-plank-pizza-co-beer-parlor-saddle-brook', 'name': 'The Plank Pizza Co Beer Parlor', 'image_url': 'https://s3-media1.fl.yelpcdn.com/bphoto/b15mTcL353HAJwZI4-bCUQ/o.jpg', 'is_closed': False, 'url': 'https://www.yelp.com/biz/the-plank-pizza-co-beer-parlor-saddle-brook?adjust_creative=CPV2AM-C8wWTHtwDdXgLDQ&utm_campaign=yelp_api_v3&utm_medium=api_v3_business_search&utm_source=CPV2AM-C8wWTHtwDdXgLDQ', 'review_count': 429, 'categories': [{'alias': 'pizza', 'title': 'Pizza'}, {'alias': 'beergardens', 'title': 'Beer Gardens'}], 'rating': 4.0, 'coordinates': {'latitude': 40.897536, 'longitude': -74.096637}, 'transactions': ['pickup'], 'price': '$$', 'location': {'address1': '383 Market St', 'address2': 'Bldg D', 'address3': '', 'city': 'Saddle Brook', 'zip_code': '07663', 'country': 'US', 'state': 'NJ', 'display_address': ['383 Market St', 'Bldg D', 'Saddle Brook, NJ 07663']}, 'phone': '+12018432426', 'display_phone': '(201) 843-2426', 'distance': 2233.5451284454894}, {'id': 'StN5iogEjup2MWAzwaGDig', 'alias': 'royal-warsaw-restaurant-elmwood-park', 'name': 'Royal Warsaw Restaurant', 'image_url': 'https://s3-media2.fl.yelpcdn.com/bphoto/LJyfS5gdpkjk4EsTE6M4wg/o.jpg', 'is_closed': False, 'url': 'https://www.yelp.com/biz/royal-warsaw-restaurant-elmwood-park?adjust_creative=CPV2AM-C8wWTHtwDdXgLDQ&utm_campaign=yelp_api_v3&utm_medium=api_v3_business_search&utm_source=CPV2AM-C8wWTHtwDdXgLDQ', 'review_count': 212, 'categories': [{'alias': 'polish', 'title': 'Polish'}, {'alias': 'modern_european', 'title': 'Modern European'}, {'alias': 'burgers', 'title': 'Burgers'}], 'rating': 4.0, 'coordinates': {'latitude': 40.89127, 'longitude': -74.12705}, 'transactions': [], 'price': '$$', 'location': {'address1': '871 River Dr', 'address2': '', 'address3': '', 'city': 'Elmwood Park', 'zip_code': '07407', 'country': 'US', 'state': 'NJ', 'display_address': ['871 River Dr', 'Elmwood Park, NJ 07407']}, 'phone': '+12017949277', 'display_phone': '(201) 794-9277', 'distance': 1639.8176919124344}, {'id': 'mhdDsouVJldeaRaT2hlPoQ', 'alias': 'king-falafel-elmwood-park', 'name': 'King Falafel', 'image_url': 'https://s3-media3.fl.yelpcdn.com/bphoto/80zaFjzvjhIO0bXW6pwxYw/o.jpg', 'is_closed': False, 'url': 'https://www.yelp.com/biz/king-falafel-elmwood-park?adjust_creative=CPV2AM-C8wWTHtwDdXgLDQ&utm_campaign=yelp_api_v3&utm_medium=api_v3_business_search&utm_source=CPV2AM-C8wWTHtwDdXgLDQ', 'review_count': 257, 'categories': [{'alias': 'mideastern', 'title': 'Middle Eastern'}, {'alias': 'falafel', 'title': 'Falafel'}, {'alias': 'sandwiches', 'title': 'Sandwiches'}], 'rating': 4.0, 'coordinates': {'latitude': 40.893461299, 'longitude': -74.1237983108}, 'transactions': ['pickup', 'delivery'], 'price': '$', 'location': {'address1': '71 US Hwy 46', 'address2': '', 'address3': '', 'city': 'Elmwood Park', 'zip_code': '07407', 'country': 'US', 'state': 'NJ', 'display_address': ['71 US Hwy 46', 'Elmwood Park, NJ 07407']}, 'phone': '+12017738899', 'display_phone': '(201) 773-8899', 'distance': 1634.6504813708214}, {'id': '0Jr2OP0B2MM4LvJY_K6cTQ', 'alias': 'aurora-ristorante-clifton', 'name': 'Aurora Ristorante', 'image_url': 'https://s3-media4.fl.yelpcdn.com/bphoto/ykorfIs4RzlzVcm4M_-ONw/o.jpg', 'is_closed': False, 'url': 'https://www.yelp.com/biz/aurora-ristorante-clifton?adjust_creative=CPV2AM-C8wWTHtwDdXgLDQ&utm_campaign=yelp_api_v3&utm_medium=api_v3_business_search&utm_source=CPV2AM-C8wWTHtwDdXgLDQ', 'review_count': 263, 'categories': [{'alias': 'italian', 'title': 'Italian'}], 'rating': 4.5, 'coordinates': {'latitude': 40.878682, 'longitude': -74.1532469}, 'transactions': [], 'price': '$$', 'location': {'address1': '429 Piaget Ave', 'address2': '', 'address3': '', 'city': 'Clifton', 'zip_code': '07011', 'country': 'US', 'state': 'NJ', 'display_address': ['429 Piaget Ave', 'Clifton, NJ 07011']}, 'phone': '+19737722914', 'display_phone': '(973) 772-2914', 'distance': 3433.8989900957686}, {'id': 'ofV90j7dN3Me1qg_M6LeEQ', 'alias': 'rebar-and-kitchen-lodi-2', 'name': 'ReBAR & kitchen', 'image_url': 'https://s3-media1.fl.yelpcdn.com/bphoto/vp1h1CbtthzJXbePWj87hg/o.jpg', 'is_closed': False, 'url': 'https://www.yelp.com/biz/rebar-and-kitchen-lodi-2?adjust_creative=CPV2AM-C8wWTHtwDdXgLDQ&utm_campaign=yelp_api_v3&utm_medium=api_v3_business_search&utm_source=CPV2AM-C8wWTHtwDdXgLDQ', 'review_count': 459, 'categories': [{'alias': 'sportsbars', 'title': 'Sports Bars'}, {'alias': 'burgers', 'title': 'Burgers'}, {'alias': 'sandwiches', 'title': 'Sandwiches'}], 'rating': 4.5, 'coordinates': {'latitude': 40.8922134, 'longitude': -74.0736829}, 'transactions': [], 'price': '$$', 'location': {'address1': '132 Essex St', 'address2': '', 'address3': '', 'city': 'Lodi', 'zip_code': '07644', 'country': 'US', 'state': 'NJ', 'display_address': ['132 Essex St', 'Lodi, NJ 07644']}, 'phone': '+12013688181', 'display_phone': '(201) 368-8181', 'distance': 3480.6475058016213}, {'id': 'LVIeAY3Q74bYwVEkPWYs_w', 'alias': 'blaze-fast-fired-pizza-paramus', 'name': \"Blaze Fast-Fire'd Pizza\", 'image_url': 'https://s3-media3.fl.yelpcdn.com/bphoto/h-UYwpGSEQlFzeIvdbI10Q/o.jpg', 'is_closed': False, 'url': 'https://www.yelp.com/biz/blaze-fast-fired-pizza-paramus?adjust_creative=CPV2AM-C8wWTHtwDdXgLDQ&utm_campaign=yelp_api_v3&utm_medium=api_v3_business_search&utm_source=CPV2AM-C8wWTHtwDdXgLDQ', 'review_count': 468, 'categories': [{'alias': 'pizza', 'title': 'Pizza'}, {'alias': 'salad', 'title': 'Salad'}, {'alias': 'hotdogs', 'title': 'Fast Food'}], 'rating': 4.5, 'coordinates': {'latitude': 40.9198199712731, 'longitude': -74.065938534489}, 'transactions': [], 'price': '$', 'location': {'address1': '65 New Jersey 4', 'address2': None, 'address3': '', 'city': 'Paramus', 'zip_code': '07652', 'country': 'US', 'state': 'NJ', 'display_address': ['65 New Jersey 4', 'Paramus, NJ 07652']}, 'phone': '+12012443495', 'display_phone': '(201) 244-3495', 'distance': 5792.45752823892}, {'id': 'SFqvhzfPs1FN3RqVwaKYaQ', 'alias': 'sofias-mediterranean-grill-hasbrouck-heights', 'name': \"Sofia's Mediterranean Grill\", 'image_url': 'https://s3-media4.fl.yelpcdn.com/bphoto/ov7olAPf_8OnOguXpGEwaw/o.jpg', 'is_closed': False, 'url': 'https://www.yelp.com/biz/sofias-mediterranean-grill-hasbrouck-heights?adjust_creative=CPV2AM-C8wWTHtwDdXgLDQ&utm_campaign=yelp_api_v3&utm_medium=api_v3_business_search&utm_source=CPV2AM-C8wWTHtwDdXgLDQ', 'review_count': 339, 'categories': [{'alias': 'greek', 'title': 'Greek'}, {'alias': 'mediterranean', 'title': 'Mediterranean'}], 'rating': 4.5, 'coordinates': {'latitude': 40.862068, 'longitude': -74.077831}, 'transactions': [], 'price': '$$', 'location': {'address1': '220 Blvd', 'address2': '', 'address3': '', 'city': 'Hasbrouck Heights', 'zip_code': '07604', 'country': 'US', 'state': 'NJ', 'display_address': ['220 Blvd', 'Hasbrouck Heights, NJ 07604']}, 'phone': '+12014620123', 'display_phone': '(201) 462-0123', 'distance': 3630.5019058567855}, {'id': '-qSOuvOti76z49v1RXE-aw', 'alias': 'koffeewagon-roasters-hasbrouck-heights', 'name': 'Koffeewagon Roasters', 'image_url': 'https://s3-media2.fl.yelpcdn.com/bphoto/DupSEfWdwqlZzipS2hbeTQ/o.jpg', 'is_closed': False, 'url': 'https://www.yelp.com/biz/koffeewagon-roasters-hasbrouck-heights?adjust_creative=CPV2AM-C8wWTHtwDdXgLDQ&utm_campaign=yelp_api_v3&utm_medium=api_v3_business_search&utm_source=CPV2AM-C8wWTHtwDdXgLDQ', 'review_count': 171, 'categories': [{'alias': 'coffee', 'title': 'Coffee & Tea'}, {'alias': 'coffeeroasteries', 'title': 'Coffee Roasteries'}], 'rating': 5.0, 'coordinates': {'latitude': 40.854768, 'longitude': -74.071913}, 'transactions': [], 'price': '$$', 'location': {'address1': '155 Rte 17 S', 'address2': None, 'address3': '', 'city': 'Hasbrouck Heights', 'zip_code': '07604', 'country': 'US', 'state': 'NJ', 'display_address': ['155 Rte 17 S', 'Hasbrouck Heights, NJ 07604']}, 'phone': '+12014260520', 'display_phone': '(201) 426-0520', 'distance': 4517.489783892851}, {'id': 'LtxF5zthl_oRw0TlMcQcuQ', 'alias': 'sergios-missione-lodi', 'name': \"Sergio's Missione\", 'image_url': 'https://s3-media3.fl.yelpcdn.com/bphoto/dxByPgbff3vQ6jdU5ZDM3A/o.jpg', 'is_closed': False, 'url': 'https://www.yelp.com/biz/sergios-missione-lodi?adjust_creative=CPV2AM-C8wWTHtwDdXgLDQ&utm_campaign=yelp_api_v3&utm_medium=api_v3_business_search&utm_source=CPV2AM-C8wWTHtwDdXgLDQ', 'review_count': 175, 'categories': [{'alias': 'italian', 'title': 'Italian'}], 'rating': 4.5, 'coordinates': {'latitude': 40.8766134207382, 'longitude': -74.0869942317035}, 'transactions': [], 'price': '$$', 'location': {'address1': '2 Mercer St', 'address2': '', 'address3': '', 'city': 'Lodi', 'zip_code': '07644', 'country': 'US', 'state': 'NJ', 'display_address': ['2 Mercer St', 'Lodi, NJ 07644']}, 'phone': '+19737784545', 'display_phone': '(973) 778-4545', 'distance': 2214.6819450910693}], 'total': 963, 'region': {'center': {'longitude': -74.11256790161133, 'latitude': 40.88146003753529}}}\n"
     ]
    }
   ],
   "source": [
    "print(business_data)"
   ]
  },
  {
   "cell_type": "code",
   "execution_count": 25,
   "metadata": {},
   "outputs": [
    {
     "name": "stdout",
     "output_type": "stream",
     "text": [
      "{'id': 'hE5iK9YGwftL5YFW_fT1Fg', 'alias': 'the-hive-bar-and-bistro-garfield', 'name': 'The Hive Bar & Bistro', 'image_url': 'https://s3-media3.fl.yelpcdn.com/bphoto/yZydL3zvyMaqyzG_67uRAw/o.jpg', 'is_claimed': True, 'is_closed': False, 'url': 'https://www.yelp.com/biz/the-hive-bar-and-bistro-garfield?adjust_creative=CPV2AM-C8wWTHtwDdXgLDQ&utm_campaign=yelp_api_v3&utm_medium=api_v3_business_lookup&utm_source=CPV2AM-C8wWTHtwDdXgLDQ', 'phone': '+19739554414', 'display_phone': '(973) 955-4414', 'review_count': 106, 'categories': [{'alias': 'salad', 'title': 'Salad'}, {'alias': 'chicken_wings', 'title': 'Chicken Wings'}, {'alias': 'cocktailbars', 'title': 'Cocktail Bars'}], 'rating': 4.5, 'location': {'address1': '142 Outwater Ln', 'address2': '', 'address3': None, 'city': 'Garfield', 'zip_code': '07026', 'country': 'US', 'state': 'NJ', 'display_address': ['142 Outwater Ln', 'Garfield, NJ 07026'], 'cross_streets': ''}, 'coordinates': {'latitude': 40.8815153240369, 'longitude': -74.1125469790838}, 'photos': ['https://s3-media3.fl.yelpcdn.com/bphoto/yZydL3zvyMaqyzG_67uRAw/o.jpg', 'https://s3-media3.fl.yelpcdn.com/bphoto/cCAL12ZBkKZPDOL-1U45lA/o.jpg', 'https://s3-media2.fl.yelpcdn.com/bphoto/vnoFJml3nKB6KD3xkNmpQw/o.jpg'], 'price': '$$', 'hours': [{'open': [{'is_overnight': True, 'start': '1700', 'end': '0100', 'day': 1}, {'is_overnight': True, 'start': '1700', 'end': '0100', 'day': 2}, {'is_overnight': True, 'start': '1700', 'end': '0100', 'day': 3}, {'is_overnight': True, 'start': '1500', 'end': '0200', 'day': 4}, {'is_overnight': True, 'start': '1300', 'end': '0200', 'day': 5}, {'is_overnight': True, 'start': '1300', 'end': '0100', 'day': 6}], 'hours_type': 'REGULAR', 'is_open_now': True}], 'transactions': []}\n"
     ]
    }
   ],
   "source": [
    "h_business_details = 'https://api.yelp.com/v3/businesses/hE5iK9YGwftL5YFW_fT1Fg'\n",
    "response = requests.get(url = h_business_details, headers = HEADER)\n",
    "hive_data = response.json()\n",
    "print(hive_data)"
   ]
  },
  {
   "cell_type": "code",
   "execution_count": 26,
   "metadata": {},
   "outputs": [
    {
     "name": "stdout",
     "output_type": "stream",
     "text": [
      "{'reviews': [{'id': '4Vy5SVP8mxZNdL-o6rACVw', 'url': 'https://www.yelp.com/biz/the-hive-bar-and-bistro-garfield?adjust_creative=CPV2AM-C8wWTHtwDdXgLDQ&hrid=4Vy5SVP8mxZNdL-o6rACVw&utm_campaign=yelp_api_v3&utm_medium=api_v3_business_reviews&utm_source=CPV2AM-C8wWTHtwDdXgLDQ', 'text': 'I love this gem from Garfield! \\n\\nFrom the atmosphere, tasty food and great service, I enjoyed coming here with a group of friends! \\n\\nI heard a lot of things...', 'rating': 5, 'time_created': '2019-07-31 05:37:45', 'user': {'id': '71b573ofMHCp2G3B1f61Rg', 'profile_url': 'https://www.yelp.com/user_details?userid=71b573ofMHCp2G3B1f61Rg', 'image_url': 'https://s3-media3.fl.yelpcdn.com/photo/IZiTn91VJjoQt2skv-6hhA/o.jpg', 'name': 'Anna A.'}}, {'id': 'wSKfyAn3D7tw1u_q8LnQ7g', 'url': 'https://www.yelp.com/biz/the-hive-bar-and-bistro-garfield?adjust_creative=CPV2AM-C8wWTHtwDdXgLDQ&hrid=wSKfyAn3D7tw1u_q8LnQ7g&utm_campaign=yelp_api_v3&utm_medium=api_v3_business_reviews&utm_source=CPV2AM-C8wWTHtwDdXgLDQ', 'text': 'My all time favorite place to come and enjoy a custom made cocktail by my favorite bartender Sebastian and a great meal made by chef Gabe or Brendan. You...', 'rating': 5, 'time_created': '2019-07-17 09:27:40', 'user': {'id': 'vXSfbKAjQJdc13e1OUWY1w', 'profile_url': 'https://www.yelp.com/user_details?userid=vXSfbKAjQJdc13e1OUWY1w', 'image_url': 'https://s3-media3.fl.yelpcdn.com/photo/90xlV05FvQyLCoiMgfDyqg/o.jpg', 'name': 'Ivey P.'}}, {'id': 'YZfqEfexGbHvIL4oa8taFA', 'url': 'https://www.yelp.com/biz/the-hive-bar-and-bistro-garfield?adjust_creative=CPV2AM-C8wWTHtwDdXgLDQ&hrid=YZfqEfexGbHvIL4oa8taFA&utm_campaign=yelp_api_v3&utm_medium=api_v3_business_reviews&utm_source=CPV2AM-C8wWTHtwDdXgLDQ', 'text': 'Awesome place. Great on the weekends, food is amazing, drinks are made really good and on time, service is sweet, \\nRyan and Bianca are probably one of the...', 'rating': 5, 'time_created': '2019-07-11 19:48:26', 'user': {'id': 'mhNP2vw7c-DxBkKK62dMQA', 'profile_url': 'https://www.yelp.com/user_details?userid=mhNP2vw7c-DxBkKK62dMQA', 'image_url': 'https://s3-media2.fl.yelpcdn.com/photo/lrhxe_XTQOUW3zT9K7z_0g/o.jpg', 'name': 'Braulio S.'}}], 'total': 106, 'possible_languages': ['en']}\n"
     ]
    }
   ],
   "source": [
    "h_reviews = 'https://api.yelp.com/v3/businesses/hE5iK9YGwftL5YFW_fT1Fg/reviews'\n",
    "response = requests.get(url = h_reviews, headers = HEADER)\n",
    "hive_r = response.json()\n",
    "print(hive_r)"
   ]
  },
  {
   "cell_type": "code",
   "execution_count": 28,
   "metadata": {},
   "outputs": [
    {
     "name": "stdout",
     "output_type": "stream",
     "text": [
      "I love this gem from Garfield! \n",
      "\n",
      "From the atmosphere, tasty food and great service, I enjoyed coming here with a group of friends! \n",
      "\n",
      "I heard a lot of things...\n",
      "My all time favorite place to come and enjoy a custom made cocktail by my favorite bartender Sebastian and a great meal made by chef Gabe or Brendan. You...\n",
      "Awesome place. Great on the weekends, food is amazing, drinks are made really good and on time, service is sweet, \n",
      "Ryan and Bianca are probably one of the...\n"
     ]
    }
   ],
   "source": [
    "for rev in hive_r['reviews']:\n",
    "    print (rev['text'])"
   ]
  },
  {
   "cell_type": "code",
   "execution_count": 34,
   "metadata": {},
   "outputs": [
    {
     "name": "stdout",
     "output_type": "stream",
     "text": [
      "I love this gem from Garfield! \n",
      "\n",
      "From the atmosphere, tasty food and great service, I enjoyed coming here with a group of friends! \n",
      "\n",
      "I heard a lot of things...\n",
      "My all time favorite place to come and enjoy a custom made cocktail by my favorite bartender Sebastian and a great meal made by chef Gabe or Brendan. You...\n",
      "Awesome place. Great on the weekends, food is amazing, drinks are made really good and on time, service is sweet, \n",
      "Ryan and Bianca are probably one of the...\n"
     ]
    }
   ],
   "source": [
    "for rev in hive_r['reviews']:\n",
    "    if rev['rating'] < 6:\n",
    "        print(rev['text'])\n",
    "    else:\n",
    "        continue"
   ]
  }
 ],
 "metadata": {
  "kernelspec": {
   "display_name": "Python 3",
   "language": "python",
   "name": "python3"
  },
  "language_info": {
   "codemirror_mode": {
    "name": "ipython",
    "version": 3
   },
   "file_extension": ".py",
   "mimetype": "text/x-python",
   "name": "python",
   "nbconvert_exporter": "python",
   "pygments_lexer": "ipython3",
   "version": "3.7.4"
  }
 },
 "nbformat": 4,
 "nbformat_minor": 2
}
